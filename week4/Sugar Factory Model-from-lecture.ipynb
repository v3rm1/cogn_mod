{
 "cells": [
  {
   "cell_type": "markdown",
   "metadata": {},
   "source": [
    "## Model of the Sugar Factory Experiment"
   ]
  },
  {
   "cell_type": "code",
   "execution_count": 1,
   "metadata": {},
   "outputs": [],
   "source": [
    "from model import Model\n",
    "from chunk import Chunk\n",
    "import numpy as np\n",
    "import matplotlib.pyplot as plt"
   ]
  },
  {
   "cell_type": "markdown",
   "metadata": {},
   "source": [
    "First we define a function that determines the output of the factory"
   ]
  },
  {
   "cell_type": "code",
   "execution_count": 2,
   "metadata": {},
   "outputs": [],
   "source": [
    "def factory_output(w, prod):\n",
    "    new_production = 2 * w - prod + np.random.randint(-1,1)\n",
    "    if new_production > 12:\n",
    "        new_production = 12\n",
    "    elif new_production < 1:\n",
    "        new_production = 1\n",
    "    return new_production"
   ]
  },
  {
   "cell_type": "markdown",
   "metadata": {},
   "source": [
    "Target production is 9"
   ]
  },
  {
   "cell_type": "code",
   "execution_count": 3,
   "metadata": {},
   "outputs": [],
   "source": [
    "target = 9"
   ]
  },
  {
   "cell_type": "markdown",
   "metadata": {},
   "source": [
    "If the model fails to retrieve an experience, we need a backup default strategy. Here we just pick a random number of workers. Alternatively, we can try different default strategies"
   ]
  },
  {
   "cell_type": "code",
   "execution_count": 4,
   "metadata": {},
   "outputs": [],
   "source": [
    "def default_strategy(production, target):\n",
    "    return np.random.randint(1,10)"
   ]
  },
  {
   "cell_type": "markdown",
   "metadata": {},
   "source": [
    "Run the model for a single day. It tries to retrieve an example from declarative memory. If this is successful, it follows the example. Otherwise it will carry out the default strategy. It then calculates the new production, and stores this as a chunk in memory."
   ]
  },
  {
   "cell_type": "code",
   "execution_count": 5,
   "metadata": {},
   "outputs": [],
   "source": [
    "def do_one_day(m, day, production):\n",
    "    query = Chunk(name = \"query\", slots = {\"yesterday\": production, \n",
    "                                         \"today\": target})\n",
    "    chunk, latency = m.retrieve_partial(query)\n",
    "    if chunk == None:\n",
    "        workers = default_strategy(production, target)\n",
    "    else:\n",
    "        workers = chunk.slots[\"workers\"]\n",
    "        m.add_encounter(chunk)\n",
    "    m.time += latency\n",
    "    new_production = factory_output(workers, production)\n",
    "    new_chunk = Chunk(name = \"experience\" + str(day),\n",
    "                     slots = {\"yesterday\" : production,\n",
    "                             \"workers\" : workers,\n",
    "                             \"today\": new_production})\n",
    "    m.add_encounter(new_chunk)\n",
    "    m.time += 5.0\n",
    "    return day + 1, new_production"
   ]
  },
  {
   "cell_type": "markdown",
   "metadata": {},
   "source": [
    "Run a single subject for 80 trials, and return the accuracies."
   ]
  },
  {
   "cell_type": "code",
   "execution_count": 6,
   "metadata": {},
   "outputs": [],
   "source": [
    "def run_subject():\n",
    "    day = 1\n",
    "    production = 5\n",
    "    m = Model()\n",
    "    m.rt = -2.0\n",
    "    results = []\n",
    "    for i in range(80):\n",
    "        day, production = do_one_day(m, day, production)\n",
    "        if production >= 8 and production <= 10:\n",
    "            results.append(1)\n",
    "        else:\n",
    "            results.append(0)\n",
    "    return results"
   ]
  },
  {
   "cell_type": "markdown",
   "metadata": {},
   "source": [
    "Run the experiment for n subjects, and plot the results"
   ]
  },
  {
   "cell_type": "code",
   "execution_count": 7,
   "metadata": {},
   "outputs": [],
   "source": [
    "def run_experiment(n):\n",
    "    totals = []\n",
    "    for i in range(n):\n",
    "        result = run_subject()\n",
    "        if totals == []:\n",
    "            totals = result\n",
    "        else:\n",
    "            totals = [x + y for x,y in zip(totals, result)]\n",
    "    totals = [ x /n for x in totals]\n",
    "    plt.plot(range(80), totals)"
   ]
  },
  {
   "cell_type": "code",
   "execution_count": 9,
   "metadata": {},
   "outputs": [
    {
     "data": {
      "image/png": "[encoded data removed]",
      "text/plain": [
       "<Figure size 432x288 with 1 Axes>"
      ]
     },
     "metadata": {},
     "output_type": "display_data"
    }
   ],
   "source": [
    "run_experiment(500)"
   ]
  },
  {
   "cell_type": "code",
   "execution_count": null,
   "metadata": {},
   "outputs": [],
   "source": []
  }
 ],
 "metadata": {
  "kernelspec": {
   "display_name": "Python 3",
   "language": "python",
   "name": "python3"
  },
  "language_info": {
   "codemirror_mode": {
    "name": "ipython",
    "version": 3
   },
   "file_extension": ".py",
   "mimetype": "text/x-python",
   "name": "python",
   "nbconvert_exporter": "python",
   "pygments_lexer": "ipython3",
   "version": "3.7.5"
  }
 },
 "nbformat": 4,
 "nbformat_minor": 4
}
