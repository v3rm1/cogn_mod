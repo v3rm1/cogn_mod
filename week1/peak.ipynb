{
 "cells": [
  {
   "cell_type": "markdown",
   "metadata": {},
   "source": [
    "# Example of Timing: Peak Time"
   ]
  },
  {
   "cell_type": "code",
   "execution_count": 1,
   "metadata": {},
   "outputs": [],
   "source": [
    "import math\n",
    "import random\n",
    "import pandas as pd\n",
    "import numpy as np\n",
    "import matplotlib.pyplot as plt\n",
    "import seaborn as sns"
   ]
  },
  {
   "cell_type": "markdown",
   "metadata": {},
   "source": [
    "### Noise function"
   ]
  },
  {
   "cell_type": "code",
   "execution_count": 2,
   "metadata": {},
   "outputs": [],
   "source": [
    "def noise(s):\n",
    "    rand = random.uniform(0.001,0.999)\n",
    "    return s * math.log((1 - rand)/rand)"
   ]
  },
  {
   "cell_type": "markdown",
   "metadata": {},
   "source": [
    "### Time to pulses "
   ]
  },
  {
   "cell_type": "code",
   "execution_count": 3,
   "metadata": {},
   "outputs": [],
   "source": [
    "def time_to_pulses(time, t_0 = 0.011, a = 1.1, b = 0.015, add_noise = True):\n",
    "    \n",
    "    pulses = 0\n",
    "    pulse_duration = t_0\n",
    "    \n",
    "    while time >= pulse_duration:\n",
    "        time = time - pulse_duration\n",
    "        pulses = pulses + 1\n",
    "        pulse_duration = a * pulse_duration + add_noise * noise(b * a * pulse_duration)\n",
    "        \n",
    "    return pulses"
   ]
  },
  {
   "cell_type": "code",
   "execution_count": 4,
   "metadata": {},
   "outputs": [
    {
     "name": "stdout",
     "output_type": "stream",
     "text": [
      "t (s) \t pulses\n",
      "0 \t 0\n",
      "0.011 \t 1\n",
      "0.025 \t 2\n",
      "0.1 \t 6\n",
      "0.5 \t 17\n",
      "1 \t 22\n",
      "10 \t 48\n"
     ]
    }
   ],
   "source": [
    "intervals = [0, 0.011, 0.025, 0.1, 0.5, 1, 10]\n",
    "print(\"t (s)\", \"\\t\", \"pulses\")\n",
    "for t in intervals:\n",
    "    print(t, \"\\t\", time_to_pulses(t))"
   ]
  },
  {
   "cell_type": "markdown",
   "metadata": {},
   "source": [
    "### Pulses to time"
   ]
  },
  {
   "cell_type": "code",
   "execution_count": 5,
   "metadata": {},
   "outputs": [],
   "source": [
    "def pulses_to_time(pulses, t_0 = 0.011, a = 1.1, b = 0.015, add_noise = True):\n",
    "    \n",
    "    time = 0\n",
    "    pulse_duration = t_0\n",
    "    \n",
    "    while pulses > 0:\n",
    "        time = time + pulse_duration\n",
    "        pulses = pulses - 1\n",
    "        pulse_duration = a * pulse_duration + add_noise * noise(b * a * pulse_duration)\n",
    "    \n",
    "    return time"
   ]
  },
  {
   "cell_type": "code",
   "execution_count": 6,
   "metadata": {},
   "outputs": [
    {
     "data": {
      "text/plain": [
       "1.0176213520665298"
      ]
     },
     "execution_count": 6,
     "metadata": {},
     "output_type": "execute_result"
    }
   ],
   "source": [
    "pulses_to_time(25)"
   ]
  },
  {
   "cell_type": "markdown",
   "metadata": {},
   "source": [
    "### Peak time example"
   ]
  },
  {
   "cell_type": "code",
   "execution_count": 7,
   "metadata": {},
   "outputs": [],
   "source": [
    "def peak(t, reps = 10, n_training = 10, n_trials = 100):\n",
    "    results = pd.DataFrame(columns = ['rep', 'val'])\n",
    "    for rep in range(reps):\n",
    "        goal_pulses = 0\n",
    "        for i in range(n_training):\n",
    "            goal_pulses += time_to_pulses(t)\n",
    "        goal_pulses = goal_pulses / n_training\n",
    "        for i in range(n_trials):\n",
    "            val = pulses_to_time(goal_pulses)\n",
    "            results.loc[len(results)] = [rep, val]\n",
    "    return results['val']"
   ]
  },
  {
   "cell_type": "code",
   "execution_count": 8,
   "metadata": {},
   "outputs": [],
   "source": [
    "res18 = peak(18)\n",
    "res12 = peak(12)\n",
    "res6 = peak(6)"
   ]
  },
  {
   "cell_type": "code",
   "execution_count": 9,
   "metadata": {},
   "outputs": [
    {
     "data": {
      "text/plain": [
       "<matplotlib.axes._subplots.AxesSubplot at 0x128f10a90>"
      ]
     },
     "execution_count": 9,
     "metadata": {},
     "output_type": "execute_result"
    },
    {
     "data": {
      "image/png": "[encoded data removed]",
      "text/plain": [
       "<Figure size 432x288 with 1 Axes>"
      ]
     },
     "metadata": {
      "needs_background": "light"
     },
     "output_type": "display_data"
    }
   ],
   "source": [
    "sns.kdeplot(np.array(res18), label=\"18s\")\n",
    "sns.kdeplot(np.array(res12), label=\"12s\")\n",
    "sns.kdeplot(np.array(res6), label=\"6s\")"
   ]
  },
  {
   "cell_type": "markdown",
   "metadata": {},
   "source": [
    "## Assignment: Bisection"
   ]
  },
  {
   "cell_type": "markdown",
   "metadata": {},
   "source": [
    "Write a function that generates a bisection plot given a range of values to be tested, number of simulated subjects, number of training trials for long and short, and number of test trial per subject.\n",
    "\n",
    "`def bisection(values, reps = 100, n_training = 10, n_trials = 10):`\n",
    "\n",
    "You should be able to call the function with:\n",
    "\n",
    "`values_3to6 = [3, 3.37, 3.78, 4.24, 4.76, 5.34, 6]`\n",
    "\n",
    "`bisection(values_3to6)`\n",
    "\n",
    "which should then produce something like:\n",
    "\n"
   ]
  },
  {
   "cell_type": "markdown",
   "metadata": {},
   "source": [
    "Other value ranges you can try are:\n",
    "\n",
    "`values_4to12 = [4, 4.8, 5.77, 6.93, 8.32, 9.99, 12]`\n",
    "\n",
    "`values_2to8 = [2, 2.52, 3.18, 4, 5.04, 6.35, 8]`"
   ]
  },
  {
   "cell_type": "code",
   "execution_count": 10,
   "metadata": {},
   "outputs": [],
   "source": [
    "def bisection(values, subjects = 100, n_training = 10, n_test = 10):\n",
    "    \n",
    "    prop = np.zeros((len(values), subjects))\n",
    "    plot_prop = []\n",
    "    \n",
    "    for sub_idx in range(subjects):\n",
    "        # Training participants\n",
    "        short_pulse = []\n",
    "        long_pulse = []\n",
    "    \n",
    "        for train_iter in range(n_training):\n",
    "            short_pulse.append(time_to_pulses(values[0]))\n",
    "            long_pulse.append(time_to_pulses(values[-1]))\n",
    "            mean_short_pulse = np.mean(short_pulse)\n",
    "            mean_long_pulse = np.mean(long_pulse)\n",
    "            \n",
    "        #Testing participants and classifying outputs as long or short\n",
    "        long_count = np.zeros((len(values), n_test))\n",
    "\n",
    "        for test_iter in range(n_test):\n",
    "            for val_idx in range(len(values)):\n",
    "                if abs(time_to_pulses(values[val_idx]) - mean_short_pulse) > abs(time_to_pulses(values[val_idx]) - mean_long_pulse):\n",
    "                    long_count[val_idx,test_iter] = 1\n",
    "                else:\n",
    "                    long_count[val_idx,test_iter] = 0\n",
    "                \n",
    "        for val_idx in range(len(values)):\n",
    "            prop[val_idx,sub_idx] = np.sum(long_count[val_idx])/(n_test)\n",
    "                    \n",
    "    for val_idx in range(len(values)):\n",
    "        plot_prop.append(np.mean(prop[val_idx]))\n",
    "            \n",
    "    \n",
    "    plt.plot(values, plot_prop, marker = \"o\")\n",
    "    plt.grid(True)\n",
    "    plt.xlabel('Time interval (s)')\n",
    "    plt.ylabel('Proportion long')\n",
    "    plt.show()\n",
    "    return"
   ]
  },
  {
   "cell_type": "markdown",
   "metadata": {},
   "source": [
    "### Bisection: 2-8 second simulation"
   ]
  },
  {
   "cell_type": "code",
   "execution_count": 11,
   "metadata": {},
   "outputs": [
    {
     "data": {
      "image/png": "[encoded data removed]",
      "text/plain": [
       "<Figure size 432x288 with 1 Axes>"
      ]
     },
     "metadata": {
      "needs_background": "light"
     },
     "output_type": "display_data"
    }
   ],
   "source": [
    "values_2to8 = [2, 2.52, 3.18, 4, 5.04, 6.35, 8]\n",
    "bisection(values_2to8)"
   ]
  },
  {
   "cell_type": "markdown",
   "metadata": {},
   "source": [
    "### Bisection: 3-6 second simulation"
   ]
  },
  {
   "cell_type": "code",
   "execution_count": 12,
   "metadata": {},
   "outputs": [
    {
     "data": {
      "image/png": "[encoded data removed]",
      "text/plain": [
       "<Figure size 432x288 with 1 Axes>"
      ]
     },
     "metadata": {
      "needs_background": "light"
     },
     "output_type": "display_data"
    }
   ],
   "source": [
    "values_3to6 = [3, 3.37, 3.78, 4.24, 4.76, 5.34, 6]\n",
    "\n",
    "bisection(values_3to6)"
   ]
  },
  {
   "cell_type": "markdown",
   "metadata": {},
   "source": [
    "### Bisection: 4-12 second simulation"
   ]
  },
  {
   "cell_type": "code",
   "execution_count": 13,
   "metadata": {},
   "outputs": [
    {
     "data": {
      "image/png": "[encoded data removed]",
      "text/plain": [
       "<Figure size 432x288 with 1 Axes>"
      ]
     },
     "metadata": {
      "needs_background": "light"
     },
     "output_type": "display_data"
    }
   ],
   "source": [
    "values_4to12 = [4, 4.8, 5.77, 6.93, 8.32, 9.99, 12]\n",
    "bisection(values_4to12)"
   ]
  }
 ],
 "metadata": {
  "kernelspec": {
   "display_name": "Python 3",
   "language": "python",
   "name": "python3"
  },
  "language_info": {
   "codemirror_mode": {
    "name": "ipython",
    "version": 3
   },
   "file_extension": ".py",
   "mimetype": "text/x-python",
   "name": "python",
   "nbconvert_exporter": "python",
   "pygments_lexer": "ipython3",
   "version": "3.7.5"
  }
 },
 "nbformat": 4,
 "nbformat_minor": 4
}
